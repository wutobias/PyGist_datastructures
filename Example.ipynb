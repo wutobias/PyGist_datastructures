{
 "cells": [
  {
   "cell_type": "code",
   "execution_count": null,
   "metadata": {
    "scrolled": true
   },
   "outputs": [],
   "source": [
    "### This is the base class for the grid/box. It serves \n",
    "### for handling and manipulation of spatial data only.\n",
    "### It does *not* hold any grid values.\n",
    "### In principle, the class can handle all sorts of grids/boxes.\n",
    "### Since GIST mostly uses rectangular grids, we will invoke\n",
    "### our field with a grid spacing vector, instead of a unit cell\n",
    "### matrix.\n",
    "from io_core import field\n",
    "import numpy as np\n",
    "\n",
    "Bins   = np.array([50,50,50])\n",
    "Delta  = np.array([0.5,0.5,0.5])\n",
    "Origin = np.array([0.2121,1.,2])\n",
    "\n",
    "### Init...\n",
    "print \"Initilize field object with bins=\",Bins,\n",
    "print \"Delta=\",Delta,\n",
    "print \"Origin=\",Origin\n",
    "print \"\"\n",
    "f = field(Bins=Bins, Delta=Delta, Origin=Origin)\n",
    "\n",
    "### Coordinates of all grid voxel.\n",
    "print \"Retrieve coordinates of all grid voxel. Note that these are not stored, but generated upon retrieval.\"\n",
    "print f.get_centers_real()\n",
    "print \"\"\n",
    "print \"Now retrieve same set of coordinates in fractional space.\"\n",
    "print f.get_centers_frac()\n",
    "print \"Retrieve a set of real space coordinates in fractional space.\"\n",
    "print \"e.g. Origin(real) -> Origin(frac)\"\n",
    "print f.get_frac(Origin)\n",
    "print \"Now do the same with but in the opposite direction\"\n",
    "print \"e.g. Origin(frac) -> Origin(real)\"\n",
    "print f.get_real([0,0,0])\n",
    "print f.dim"
   ]
  },
  {
   "cell_type": "code",
   "execution_count": null,
   "metadata": {},
   "outputs": [],
   "source": [
    "### Now we use the gist class, which inherits directly from\n",
    "### the field class. That means it holds all spatial information\n",
    "### members and functions of field class, but also holds grid\n",
    "### quantities.\n",
    "\n",
    "from io_core import gist\n",
    "import numpy as np\n",
    "\n",
    "Bins   = np.array([50,50,50])\n",
    "Delta  = np.array([0.5,0.5,0.5])\n",
    "Origin = np.array([0.2121,1.,2])\n",
    "\n",
    "g = gist(Bins=Bins, Delta=Delta, Origin=Origin)\n",
    "\n",
    "### We can use all functionalities from the field class but also\n",
    "### have gist numpy arrays and different options for basic manipulation.\n",
    "print \"Currently, our gist object is empty. E.g., this is the population array:\"\n",
    "print g.Pop\n",
    "print \"\"\n",
    "print \"... as we can see it has correct shape:\",\n",
    "print g.Pop.shape\n",
    "print \"\"\n",
    "print \"Let us fill it with some fake data.\"\n",
    "g.Pop[:] = np.random.rand(50,50, 50)\n",
    "print g.Pop\n",
    "print \"\"\n",
    "print \"We access the data with simple indexing...\"\n",
    "query_frac = np.array(np.rint(g.get_frac(g.center)), dtype=int)\n",
    "print g.Pop[query_frac[0],\n",
    "            query_frac[1],\n",
    "            query_frac[2]]\n",
    "print g.Pop[query_frac]"
   ]
  }
 ],
 "metadata": {
  "kernelspec": {
   "display_name": "Python 2",
   "language": "python",
   "name": "python2"
  },
  "language_info": {
   "codemirror_mode": {
    "name": "ipython",
    "version": 2
   },
   "file_extension": ".py",
   "mimetype": "text/x-python",
   "name": "python",
   "nbconvert_exporter": "python",
   "pygments_lexer": "ipython2",
   "version": "2.7.14"
  }
 },
 "nbformat": 4,
 "nbformat_minor": 2
}
